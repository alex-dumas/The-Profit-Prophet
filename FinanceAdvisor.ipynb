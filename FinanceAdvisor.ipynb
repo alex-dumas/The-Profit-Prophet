{
 "cells": [
  {
   "cell_type": "code",
   "execution_count": 120,
   "metadata": {
    "collapsed": false
   },
   "outputs": [],
   "source": [
    "import csv\n",
    "import urllib.request\n",
    "from lxml import etree\n",
    "from yahoo_finance import *\n",
    "from bs4 import BeautifulSoup\n",
    "import datetime"
   ]
  },
  {
   "cell_type": "code",
   "execution_count": 121,
   "metadata": {
    "collapsed": false
   },
   "outputs": [],
   "source": [
    "with open('secwiki_tickers.csv', mode='r') as in_file:\n",
    "    reader = csv.DictReader(in_file)\n",
    "    name_to_ticker_dict = {row['Name'].lower(): row['Ticker'] for row in reader}"
   ]
  },
  {
   "cell_type": "code",
   "execution_count": 221,
   "metadata": {
    "collapsed": false
   },
   "outputs": [],
   "source": [
    "def get_company_info(c):\n",
    "    d = datetime.datetime.now().date()\n",
    "    \n",
    "    comp = Share(c)\n",
    "    soup = BeautifulSoup(urllib.request.urlopen('http://finance.yahoo.com/q?s='+c).read(), 'lxml')\n",
    "    return dict(list({'history': list(map(lambda x: x['High'], comp.get_historical(str(d - datetime.timedelta(days=300)), str(d))))}.items()) + \\\n",
    "               list({tr.th.text: tr.td.text \n",
    "                     for tr in list(soup.find(\"table\", {\"id\":\"table1\"}).children)}.items()) +\\\n",
    "               list({'Name': c}.items())+\\\n",
    "               list({'Current':comp.get_price()}.items()))"
   ]
  },
  {
   "cell_type": "code",
   "execution_count": 222,
   "metadata": {
    "collapsed": false
   },
   "outputs": [],
   "source": [
    "from sklearn.linear_model import LinearRegression\n",
    "\n",
    "ai = LinearRegression()"
   ]
  },
  {
   "cell_type": "code",
   "execution_count": 223,
   "metadata": {
    "collapsed": false
   },
   "outputs": [],
   "source": [
    "def company_worth_investing(c):\n",
    "    i = get_company_info(c)\n",
    "    nvalue = ai.predict(list(map(eval, i['history']))[1:]+[eval(i['Current'])])[0]\n",
    "    b = eval(i['Beta:'])\n",
    "    \n",
    "    if 0.85 < b < 1.15:\n",
    "        risk = 'low'\n",
    "    elif 0.5 < b < 0.85 or 1.15 < b < 1.5:\n",
    "        risk = 'medium'\n",
    "    elif 0.5 > b or 1.5 < b:\n",
    "        risk = 'high'\n",
    "    \n",
    "    # Name, Risk (low/medium/high), Beta, Percentage Increase, CPPS, PPPS\n",
    "    return (i['Name'],\n",
    "            risk, b,\n",
    "            (nvalue - eval(i['history'][-1]))/eval(i['history'][-1]),\n",
    "            eval(i['Current']),\n",
    "            nvalue)"
   ]
  },
  {
   "cell_type": "code",
   "execution_count": 224,
   "metadata": {
    "collapsed": false
   },
   "outputs": [
    {
     "data": {
      "text/plain": [
       "LinearRegression(copy_X=True, fit_intercept=True, n_jobs=1, normalize=False)"
      ]
     },
     "execution_count": 224,
     "metadata": {},
     "output_type": "execute_result"
    }
   ],
   "source": [
    "def training_info(x):\n",
    "    return (list(map(eval, get_company_info(x)['history'])), eval(get_company_info(x)['Current']))\n",
    "\n",
    "histories = [\n",
    "    training_info('GOOG'),\n",
    "    training_info('AAPL'),\n",
    "    training_info('CSCO'),\n",
    "    training_info('LNKD'),\n",
    "    training_info('FB'),\n",
    "    training_info('TWTR'),\n",
    "    training_info('AMZN'),\n",
    "    training_info('NFLX'),\n",
    "    training_info('MSFT'),\n",
    "    training_info('YHOO'),\n",
    "    training_info('VZ'),\n",
    "    training_info('HPQ'),\n",
    "    training_info('JPM'),\n",
    "    training_info('BAC'),\n",
    "    training_info('IBM'),\n",
    "    training_info('WFC'),\n",
    "    training_info('CMCSA'),\n",
    "    training_info('INTC'),\n",
    "    training_info('TSLA'),\n",
    "    training_info('WMT'),\n",
    "    training_info('ANET'),\n",
    "    training_info('ATVI'),\n",
    "    training_info('ADBE'),\n",
    "    training_info('ADI'),\n",
    "    training_info('AMAT'),\n",
    "    training_info('ADSK'),\n",
    "    training_info('ADP'),\n",
    "    training_info('WFC'),\n",
    "    training_info('FDX'),\n",
    "    training_info('UPS'),\n",
    "    training_info('MMM'),\n",
    "    training_info('ABT'),\n",
    "]\n",
    "\n",
    "ai.fit(list(map(lambda x: x[0], histories)),\n",
    "       list(map(lambda x: x[1], histories)))"
   ]
  },
  {
   "cell_type": "code",
   "execution_count": 226,
   "metadata": {
    "collapsed": false
   },
   "outputs": [
    {
     "name": "stderr",
     "output_type": "stream",
     "text": [
      "/usr/local/lib/python3.5/site-packages/sklearn/utils/validation.py:386: DeprecationWarning: Passing 1d arrays as data is deprecated in 0.17 and willraise ValueError in 0.19. Reshape your data either using X.reshape(-1, 1) if your data has a single feature or X.reshape(1, -1) if it contains a single sample.\n",
      "  DeprecationWarning)\n"
     ]
    },
    {
     "data": {
      "text/plain": [
       "('TSLA', 'low', 0.985214, -0.10573949418496972, 227.75, 224.99594862862466)"
      ]
     },
     "execution_count": 226,
     "metadata": {},
     "output_type": "execute_result"
    }
   ],
   "source": [
    "company_worth_investing('TSLA')"
   ]
  },
  {
   "cell_type": "code",
   "execution_count": 204,
   "metadata": {
    "collapsed": false
   },
   "outputs": [
    {
     "data": {
      "text/plain": [
       "207"
      ]
     },
     "execution_count": 204,
     "metadata": {},
     "output_type": "execute_result"
    }
   ],
   "source": [
    "len(list(map(eval, i['history']))[1:]+[eval(i['Open:'])])"
   ]
  },
  {
   "cell_type": "code",
   "execution_count": 208,
   "metadata": {
    "collapsed": true
   },
   "outputs": [],
   "source": [
    "tsla = Share(\"TSLA\")"
   ]
  },
  {
   "cell_type": "code",
   "execution_count": 209,
   "metadata": {
    "collapsed": false
   },
   "outputs": [
    {
     "data": {
      "text/plain": [
       "'227.75'"
      ]
     },
     "execution_count": 209,
     "metadata": {},
     "output_type": "execute_result"
    }
   ],
   "source": [
    "tsla.get_price()"
   ]
  },
  {
   "cell_type": "code",
   "execution_count": null,
   "metadata": {
    "collapsed": true
   },
   "outputs": [],
   "source": []
  }
 ],
 "metadata": {
  "kernelspec": {
   "display_name": "Python 3",
   "language": "python",
   "name": "python3"
  },
  "language_info": {
   "codemirror_mode": {
    "name": "ipython",
    "version": 3
   },
   "file_extension": ".py",
   "mimetype": "text/x-python",
   "name": "python",
   "nbconvert_exporter": "python",
   "pygments_lexer": "ipython3",
   "version": "3.5.1"
  }
 },
 "nbformat": 4,
 "nbformat_minor": 0
}
